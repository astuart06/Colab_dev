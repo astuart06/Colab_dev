{
  "nbformat": 4,
  "nbformat_minor": 0,
  "metadata": {
    "colab": {
      "name": "astroABC_Vicsek2.ipynb",
      "provenance": [],
      "collapsed_sections": [],
      "include_colab_link": true
    },
    "kernelspec": {
      "name": "python3",
      "display_name": "Python 3"
    }
  },
  "cells": [
    {
      "cell_type": "markdown",
      "metadata": {
        "id": "view-in-github",
        "colab_type": "text"
      },
      "source": [
        "<a href=\"https://colab.research.google.com/github/astuart06/Colab_dev/blob/master/astroABC_Vicsek2.ipynb\" target=\"_parent\"><img src=\"https://colab.research.google.com/assets/colab-badge.svg\" alt=\"Open In Colab\"/></a>"
      ]
    },
    {
      "cell_type": "code",
      "metadata": {
        "id": "sjUz1LET8BGz",
        "colab_type": "code",
        "outputId": "0cd2303f-bc54-40c8-fa7b-81e23adb0592",
        "colab": {
          "base_uri": "https://localhost:8080/",
          "height": 323
        }
      },
      "source": [
        "#ABC Vicsek model and MCMCMH\n",
        "import os, sys\n",
        "import numpy as np\n",
        "from getpass import getpass\n",
        "\n",
        "import matplotlib.pyplot as plt\n",
        "plt.style.use('ggplot') \n",
        "plt.style.use('seaborn-paper') \n",
        "plt.style.use('seaborn-whitegrid') \n",
        "\n",
        "from IPython import display\n",
        "\n",
        "from matplotlib import animation, rc\n",
        "from IPython.display import HTML\n",
        "import matplotlib.collections as collections\n",
        "%matplotlib inline\n",
        "from itertools import product\n",
        "\n",
        "#! pip install sobol_seq\n",
        "!pip install mpi4py\n",
        "\n",
        "# code for running in Colab\n",
        "try:\n",
        "    # %tensorflow_version only exists in Colab.\n",
        "    %tensorflow_version 2.x\n",
        "    user = input('enter GitHub username: ')\n",
        "    password = getpass('password: ')\n",
        "    os.environ['git_user'] = user + ':' + password    \n",
        "    \n",
        "    !git clone https://$git_user@github.com/drraskell/astroABC  \n",
        "    !git clone https://$git_user@github.com/ctorney/multiscale-abc-inference    \n",
        "    \n",
        "    sys.path.append('multiscale-abc-inference')\n",
        "    sys.path.append('astroABC')\n",
        "\n",
        "except Exception:\n",
        "    pass\n",
        "\n",
        "\n",
        "%matplotlib inline\n",
        "import scipy\n",
        "import matplotlib\n",
        "import matplotlib.pyplot as plt\n",
        "import seaborn as sns\n",
        "sns.set(color_codes=True)\n",
        "import numpy as np\n",
        "from scipy.stats import skewnorm\n",
        "import math\n",
        "\n",
        "import os\n",
        "if os.path.exists(\"abc_pmc_output_1param.txt\"):\n",
        "  os.remove(\"abc_pmc_output_1param.txt\")\n",
        "\n",
        "from scipy import interpolate\n",
        "from scipy.interpolate import interp1d\n",
        "from simulations import vicsek\n",
        "\n",
        "\n",
        "#from distance_calc import DistanceCalc   \n",
        "#from bin_data import *"
      ],
      "execution_count": 0,
      "outputs": [
        {
          "output_type": "stream",
          "text": [
            "Requirement already satisfied: mpi4py in /usr/local/lib/python3.6/dist-packages (3.0.3)\n",
            "enter GitHub username: drraskell\n",
            "password: ··········\n",
            "Cloning into 'astroABC'...\n",
            "remote: Enumerating objects: 25, done.\u001b[K\n",
            "remote: Counting objects: 100% (25/25), done.\u001b[K\n",
            "remote: Compressing objects: 100% (19/19), done.\u001b[K\n",
            "remote: Total 25 (delta 0), reused 0 (delta 0), pack-reused 0\u001b[K\n",
            "Unpacking objects: 100% (25/25), done.\n",
            "Cloning into 'multiscale-abc-inference'...\n",
            "remote: Enumerating objects: 253, done.\u001b[K\n",
            "remote: Counting objects: 100% (253/253), done.\u001b[K\n",
            "remote: Compressing objects: 100% (241/241), done.\u001b[K\n",
            "remote: Total 413 (delta 137), reused 44 (delta 12), pack-reused 160\u001b[K\n",
            "Receiving objects: 100% (413/413), 27.49 MiB | 18.86 MiB/s, done.\n",
            "Resolving deltas: 100% (203/203), done.\n"
          ],
          "name": "stdout"
        },
        {
          "output_type": "stream",
          "text": [
            "/usr/local/lib/python3.6/dist-packages/statsmodels/tools/_testing.py:19: FutureWarning: pandas.util.testing is deprecated. Use the functions in the public API at pandas.testing instead.\n",
            "  import pandas.util.testing as tm\n"
          ],
          "name": "stderr"
        }
      ]
    },
    {
      "cell_type": "code",
      "metadata": {
        "id": "tjB8On_wVWKx",
        "colab_type": "code",
        "colab": {}
      },
      "source": [
        "import astroabc"
      ],
      "execution_count": 0,
      "outputs": []
    },
    {
      "cell_type": "code",
      "metadata": {
        "id": "2BAp0yfk8Cpq",
        "colab_type": "code",
        "colab": {}
      },
      "source": [
        "#measures the difference between data and simulation\n",
        "def my_dist(sumstat_data,sumstat_sim):\n",
        "  return np.sum(np.abs(sumstat_data-sumstat_sim))   #can include std of data here"
      ],
      "execution_count": 0,
      "outputs": []
    },
    {
      "cell_type": "code",
      "metadata": {
        "id": "jjXCVf_s8n-b",
        "colab_type": "code",
        "colab": {}
      },
      "source": [
        "nparam = 1 #2\n",
        "npart = 100 #200 #number of particles/walkers\n",
        "niter = 1  #number of iterations\n",
        "tlevels = [0.056629*20,20*0.056629*(0.9**(niter-1))] #cov of data repeats....do we want to remove implausible points too? \n",
        "#[0.1,0.005] #maximum,minimum tolerance\n",
        "\n",
        "prop={'tol_type':'exp',\"verbose\":1,'adapt_t':True,\n",
        "      'threshold':75,'pert_kernel':2,'variance_method':0,\n",
        "      'dist_type': 'user','dfunc':my_dist, 'restart':\"restart_test.txt\", \\\n",
        "      'outfile':\"abc_pmc_output_\"+str(nparam)+\"param.txt\",'mpi':False,\n",
        "      'mp':True,'num_proc':2, 'from_restart':False}"
      ],
      "execution_count": 0,
      "outputs": []
    },
    {
      "cell_type": "code",
      "metadata": {
        "id": "fGU4MtDhaJO5",
        "colab_type": "code",
        "colab": {}
      },
      "source": [
        ""
      ],
      "execution_count": 0,
      "outputs": []
    },
    {
      "cell_type": "code",
      "metadata": {
        "id": "m2oMPZxdwx9e",
        "colab_type": "code",
        "colab": {}
      },
      "source": [
        "# priorname  = [\"normal\",\"normal\"]    \n",
        "# hyperp = [[0,100], [0,100]] #means and stds\n",
        "# prior = list(zip(priorname,hyperp))\n",
        "# print(prior)"
      ],
      "execution_count": 0,
      "outputs": []
    },
    {
      "cell_type": "code",
      "metadata": {
        "id": "pBfT3zhn8tlu",
        "colab_type": "code",
        "colab": {}
      },
      "source": [
        "\n",
        "# priorname  = [\"uniform\", \"uniform\"]     #[\"normal\",\"normal\"]    \n",
        "# hyperp = [[1.8,2.5],[0,1]]             # [[0,100], [0,100]] #means and stds\n",
        "prior = [('uniform',[1.8,2.5])]   #,('uniform,[0,1]')]   #[('uniform',[1.8,2.5]),('uniform,[0,1]')] #perhaps"
      ],
      "execution_count": 0,
      "outputs": []
    },
    {
      "cell_type": "code",
      "metadata": {
        "id": "9T-14P1L7lcp",
        "colab_type": "code",
        "colab": {}
      },
      "source": [
        "#general parameters:\n",
        "sz=1\n",
        "timesteps=100\n",
        "burnin=0\n",
        "N = 1000\n",
        "vs=0.01\n",
        "repeat = 1\n",
        "lr = 0.1\n",
        "vs = 0.01"
      ],
      "execution_count": 0,
      "outputs": []
    },
    {
      "cell_type": "code",
      "metadata": {
        "id": "DaucdqC599rB",
        "colab_type": "code",
        "colab": {}
      },
      "source": [
        "#forward simulation bit:\n",
        "\n",
        "\n",
        "def ABCsimulation(params): #param = [om, w0] \n",
        "    simulation_cls = vicsek.vicsek_model(N,timesteps=timesteps,discard=burnin,L=sz,repeat=repeat, save_interval=1,disable_progress=True)\n",
        "\n",
        "    simulation_cls.run_sim(params,lr, vs)\n",
        "    sim_output, _, _ = simulation_cls.get_macro_states()\n",
        "\n",
        "    sim_output = np.reshape(sim_output,(repeat,timesteps-1-burnin))\n",
        "    end_output = sim_output[:,-1]\n",
        "    print(np.shape(end_output))\n",
        "    avgend = np.mean(end_output)\n",
        "\n",
        "    return avgend\n",
        "\n",
        "\n",
        "\n",
        "    # if param[0] < 1.8 or param[0] > 2.5:\n",
        "    # #if param[0] < 0.0 or param[0] > 1.0:\n",
        "    #     return [None]*len(zbins)\n",
        "    # else:\n",
        "    #     #model_1_class = DistanceCalc(param[0],0,1-param[0],0,[param[1],0],0.7)  #om,ok,ol,wmodel,de_params,h0\n",
        "\n",
        "    #     data_abc = np.zeros(len(zbins))\n",
        "    #     for i in range(len(zbins)):\n",
        "    #             data_abc[i] = model_1_class.mu(zbins[i]) + skewnorm.rvs(a, loc=e, scale=w, size=1)\n",
        "  "
      ],
      "execution_count": 0,
      "outputs": []
    },
    {
      "cell_type": "code",
      "metadata": {
        "id": "D0UYkf_cmZF7",
        "colab_type": "code",
        "outputId": "768775fa-8ac3-4834-86bb-8f45b1e55677",
        "colab": {
          "base_uri": "https://localhost:8080/",
          "height": 34
        }
      },
      "source": [
        "#make the data:\n",
        "data_eta = 2.2\n",
        "data = ABCsimulation(data_eta)"
      ],
      "execution_count": 0,
      "outputs": [
        {
          "output_type": "stream",
          "text": [
            "(1,)\n"
          ],
          "name": "stdout"
        }
      ]
    },
    {
      "cell_type": "code",
      "metadata": {
        "id": "_kL8sYKUXS62",
        "colab_type": "code",
        "outputId": "7201a7a4-4e46-4db5-8890-4f39be5aa987",
        "colab": {
          "base_uri": "https://localhost:8080/",
          "height": 34
        }
      },
      "source": [
        "data"
      ],
      "execution_count": 0,
      "outputs": [
        {
          "output_type": "execute_result",
          "data": {
            "text/plain": [
              "0.264956533908844"
            ]
          },
          "metadata": {
            "tags": []
          },
          "execution_count": 10
        }
      ]
    },
    {
      "cell_type": "code",
      "metadata": {
        "id": "aj14BDJGcjQ5",
        "colab_type": "code",
        "colab": {}
      },
      "source": [
        "def ABCsimulation2(params): \n",
        "    simulation_cls = vicsek.vicsek_model(N,timesteps=timesteps,discard=burnin,L=sz,repeat=repeat, save_interval=1,disable_progress=True)\n",
        "    \n",
        "    simulation_cls.run_sim(params[0],lr, vs)  \n",
        "    sim_output, _, _ = simulation_cls.get_macro_states()\n",
        "\n",
        "    sim_output = np.reshape(sim_output,(repeat,timesteps-1-burnin))\n",
        "    end_output = sim_output[:,-1]\n",
        "    print(np.shape(end_output))\n",
        "    avgend = np.mean(end_output)\n",
        "\n",
        "    return avgend"
      ],
      "execution_count": 0,
      "outputs": []
    },
    {
      "cell_type": "code",
      "metadata": {
        "id": "YrALjFlr-Ghi",
        "colab_type": "code",
        "outputId": "045c2c33-9472-445d-d440-8e38a8a16bf6",
        "colab": {
          "base_uri": "https://localhost:8080/",
          "height": 102
        }
      },
      "source": [
        "#the astroabc bit:\n",
        "sampler = astroabc.ABC_class(nparam,npart,data,tlevels,niter,prior,**prop)\n",
        "output = sampler.sample(ABCsimulation2)\n"
      ],
      "execution_count": 0,
      "outputs": [
        {
          "output_type": "stream",
          "text": [
            "\t \t\n",
            "\t ########################     astroABC     ########################\t\n",
            "\t \t\n",
            "\t Npart=100 \t numt=1 \t tol=[1.1326,1.1326] exp\n",
            "\t Priors= [('uniform', [1.8, 2.5])]\n"
          ],
          "name": "stdout"
        }
      ]
    },
    {
      "cell_type": "code",
      "metadata": {
        "id": "SNvt_6-7Qmt8",
        "colab_type": "code",
        "colab": {}
      },
      "source": [
        "import pandas as pd\n",
        "\n",
        "dataout = pd.read_csv('abc_pmc_output_1param.txt', header = None, sep =' \\t', skiprows =1, decimal='.' )\n",
        "print(dataout[0])\n",
        "np.shape(dataout)\n",
        "#first column = value , second column = distance, third column = weighting \n",
        "\n",
        "#curve = plt.hist(dataout[0],bins=[2.0,2.05,2.1,2.15,2.2,2.25])\n",
        "import seaborn as sns, numpy as np\n",
        "\n",
        "sns.set(); \n",
        "sns.set_style(style='white')\n",
        "ax1 = sns.distplot(dataout[0],bins=20)\n",
        "ax1.set(xlabel='$\\eta$', ylabel='posterior')\n",
        "\n",
        "\n",
        "fit = ax1.get_lines()[0].get_data() # Getting the data from the plotted line\n",
        "xfit, yfit = fit[0], fit[1]\n"
      ],
      "execution_count": 0,
      "outputs": []
    },
    {
      "cell_type": "code",
      "metadata": {
        "id": "JL1pAroOIR-3",
        "colab_type": "code",
        "colab": {}
      },
      "source": [
        "def mcmcmh(ystest,ystd,z0, sigma, mineta,maxeta,leneta, n_samples, burn_in, m): \n",
        "    \n",
        "    samples = np.zeros(n_samples)\n",
        "    zmesh = np.linspace(mineta,maxeta,leneta)\n",
        "    \n",
        "    # Store initial value\n",
        "    samples[0] = z0\n",
        "    z = z0 \n",
        "\n",
        "    f = interpolate.interp1d(zmesh,ystest)\n",
        "\n",
        "    l_cur = f(z)\n",
        "\n",
        "    if l_cur=={}:\n",
        "        l_cur = - np.inf   #if implausible, set log likelihood to be -inf\n",
        "\n",
        "    # Counter\n",
        "    iter = 0\n",
        "    # Total number of iterations to make to achieve desired number of samples\n",
        "    iters = (n_samples * m) + burn_in\n",
        "\n",
        "    # Sample outside the for loop\n",
        "    innov = np.random.normal(loc=0, scale=sigma, size=iters)\n",
        "    u = np.random.rand(iters)   #/3 +0.66\n",
        "\n",
        "    while iter < iters:\n",
        "        # Random walk innovation on z\n",
        "        cand = z + innov[iter]\n",
        "        \n",
        "        l_cand = f(cand)\n",
        "        \n",
        "        if l_cand=={}:\n",
        "            l_cand = - np.inf   #if implausible, set log likelihood to be -inf if input is log likelihood\n",
        "        \n",
        "        # Accept or reject candidate\n",
        "        #if (l_cand / l_cur) > u[iter]:\n",
        "        if np.exp(l_cand-l_cur) >u[iter]:\n",
        "            z = cand\n",
        "            l_cur = l_cand\n",
        "\n",
        "        # Only keep iterations after burn-in and for every m-th iteration\n",
        "        if iter > burn_in and iter % m == 0:\n",
        "            samples[(iter - burn_in) // m] = z\n",
        "\n",
        "        iter += 1       \n",
        "\n",
        "    return samples"
      ],
      "execution_count": 0,
      "outputs": []
    },
    {
      "cell_type": "code",
      "metadata": {
        "id": "92cLljQwIpr8",
        "colab_type": "code",
        "colab": {}
      },
      "source": [
        "mcmcinput = yfit.flatten()   \n",
        "mcmcstd = yfit.flatten() #not used\n",
        "\n",
        "sobol_range = xfit\n",
        "\n",
        "#mcmcmh_old.mcmcmh\n",
        "samples = mcmcmh(np.log(mcmcinput),mcmcstd,np.random.choice(sobol_range).flatten(), 0.001, np.min(sobol_range),np.max(sobol_range),len(xfit), n_samples=10**6, burn_in=1000, m=1)\n"
      ],
      "execution_count": 0,
      "outputs": []
    },
    {
      "cell_type": "code",
      "metadata": {
        "id": "_6dbvI_CJKjO",
        "colab_type": "code",
        "colab": {}
      },
      "source": [
        "# plt.hist(samples,bins=100,density=True,range=())\n",
        "# plt.axvline(data_eta, color='k')\n",
        "# plt.xlabel('$/eta$')\n",
        "# plt.show()\n",
        "import seaborn as sns\n",
        "sns.set(); \n",
        "sns.set_style(style='white')\n",
        "ax = sns.distplot(samples,bins=100, hist_kws={\"range\": [1.5,2.9]})\n",
        "\n",
        "ax.axvline(data_eta, color='k')\n",
        "plt.xlabel('$\\eta$')"
      ],
      "execution_count": 0,
      "outputs": []
    },
    {
      "cell_type": "code",
      "metadata": {
        "id": "AqmwwdBJeZBY",
        "colab_type": "code",
        "colab": {}
      },
      "source": [
        "print(dataout[1])"
      ],
      "execution_count": 0,
      "outputs": []
    }
  ]
}
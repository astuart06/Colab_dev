{
  "nbformat": 4,
  "nbformat_minor": 0,
  "metadata": {
    "colab": {
      "name": "min_data_1.ipynb",
      "provenance": [],
      "collapsed_sections": [],
      "include_colab_link": true
    },
    "kernelspec": {
      "name": "python3",
      "display_name": "Python 3"
    }
  },
  "cells": [
    {
      "cell_type": "markdown",
      "metadata": {
        "id": "view-in-github",
        "colab_type": "text"
      },
      "source": [
        "<a href=\"https://colab.research.google.com/github/astuart06/Colab_dev/blob/master/min_data_1.ipynb\" target=\"_parent\"><img src=\"https://colab.research.google.com/assets/colab-badge.svg\" alt=\"Open In Colab\"/></a>"
      ]
    },
    {
      "cell_type": "code",
      "metadata": {
        "id": "_hIC0KS3XZgW",
        "colab_type": "code",
        "colab": {
          "base_uri": "https://localhost:8080/",
          "height": 85
        },
        "outputId": "da81bc98-ee76-4901-bc7b-780bb08a59b9"
      },
      "source": [
        "data =[456, 700, 200, 512, 200, 679, 200, 211]\n",
        "print(data)\n",
        "\n",
        "# Find the min data point\n",
        "min_data = min(data)\n",
        "print(min_data)\n",
        "\n",
        "# Index of the first occurance of the min data point\n",
        "print(data.index(min_data))\n",
        "\n",
        "# How many data points have the same value as min data point\n",
        "min_data_count = data.count(min_data)\n",
        "print(min_data_count)"
      ],
      "execution_count": 11,
      "outputs": [
        {
          "output_type": "stream",
          "text": [
            "[456, 700, 200, 512, 200, 679, 200, 211]\n",
            "200\n",
            "2\n",
            "3\n"
          ],
          "name": "stdout"
        }
      ]
    },
    {
      "cell_type": "code",
      "metadata": {
        "id": "LuqJ8Wbhcn5C",
        "colab_type": "code",
        "colab": {
          "base_uri": "https://localhost:8080/",
          "height": 34
        },
        "outputId": "74115c58-ca04-4ec8-a95b-0340c46c0df9"
      },
      "source": [
        "import numpy as np\n",
        "\n",
        "data = np.array([456, 700, 0, 512, 679, 200, 211])\n",
        "\n",
        "# Min value in array that is not zero\n",
        "min_data = np.min(data[np.nonzero(data)])\n",
        "print(min_data)"
      ],
      "execution_count": 15,
      "outputs": [
        {
          "output_type": "stream",
          "text": [
            "200\n"
          ],
          "name": "stdout"
        }
      ]
    },
    {
      "cell_type": "markdown",
      "metadata": {
        "id": "BIso-7oxcnu0",
        "colab_type": "text"
      },
      "source": [
        ""
      ]
    }
  ]
}
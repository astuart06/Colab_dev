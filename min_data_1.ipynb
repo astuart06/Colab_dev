{
  "nbformat": 4,
  "nbformat_minor": 0,
  "metadata": {
    "colab": {
      "name": "Untitled0.ipynb",
      "provenance": [],
      "include_colab_link": true
    },
    "kernelspec": {
      "name": "python3",
      "display_name": "Python 3"
    }
  },
  "cells": [
    {
      "cell_type": "markdown",
      "metadata": {
        "id": "view-in-github",
        "colab_type": "text"
      },
      "source": [
        "<a href=\"https://colab.research.google.com/github/astuart06/Colab_dev/blob/master/min_data_1.ipynb\" target=\"_parent\"><img src=\"https://colab.research.google.com/assets/colab-badge.svg\" alt=\"Open In Colab\"/></a>"
      ]
    },
    {
      "cell_type": "code",
      "metadata": {
        "id": "_hIC0KS3XZgW",
        "colab_type": "code",
        "colab": {
          "base_uri": "https://localhost:8080/",
          "height": 85
        },
        "outputId": "a0f46848-c0ff-48a0-ee66-b452a264b900"
      },
      "source": [
        "data =[456, 700, 200, 512, 200, 679, 200, 211]\n",
        "print(data)\n",
        "\n",
        "min_data = min(data)\n",
        "print(min_data)\n",
        "\n",
        "print(data.index(200))\n",
        "min_data_count = data.count(min_data)\n",
        "print(min_data_count)"
      ],
      "execution_count": 8,
      "outputs": [
        {
          "output_type": "stream",
          "text": [
            "[456, 700, 200, 512, 200, 679, 200, 211]\n",
            "200\n",
            "2\n",
            "3\n"
          ],
          "name": "stdout"
        }
      ]
    }
  ]
}